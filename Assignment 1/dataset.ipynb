{
 "cells": [
  {
   "cell_type": "markdown",
   "metadata": {},
   "source": [
    "# Pre-processing\n",
    "### Cleaning\n",
    "We start by using a regex to remove any HTML elements, to clean the text data.\n",
    "\n",
    "### Lowercase\n",
    "We then lowercase every word to ensure uniformity and prevent the model from treating words differently based on their capitalization.\n",
    "\n",
    "### Special Characters / Punctuation\n",
    "For this particular problem, special characters and punctuation marks don't contribute much to the meaning of the text and can be removed (opinion could be different if this was a sentiment analysis instead of a topic classification problem)\n",
    "\n",
    "### Tokenization\n",
    "We then split the text into individual words/tokens, as it helps capture semantic more effectively.\n",
    "\n",
    "### Stopwords\n",
    "Stopwords are common words that occur frequently in language, but, in a topic classification problem, carry virtually no useful information. Removing them reduces the noise in the data.\n",
    "\n",
    "### Stemming\n",
    "We reduce words to their base or root form, as it reduces the size of vocabulary and the dimensionality of the feature space."
   ]
  },
  {
   "cell_type": "code",
   "execution_count": 1,
   "metadata": {},
   "outputs": [
    {
     "name": "stderr",
     "output_type": "stream",
     "text": [
      "[nltk_data] Downloading package stopwords to\n",
      "[nltk_data]     C:\\Users\\Utilizador\\AppData\\Roaming\\nltk_data...\n",
      "[nltk_data]   Package stopwords is already up-to-date!\n"
     ]
    },
    {
     "name": "stdout",
     "output_type": "stream",
     "text": [
      "I was born in tokenyear and got tokennumber% in my exam. It took me timetoken on tokennumber/tokennumber/tokenyear to finish the race.\n",
      "0         [wall, st, bear, claw, back, black, reuter, re...\n",
      "1         [carlyl, look, toward, commerci, aerospac, reu...\n",
      "2         [oil, economi, cloud, stock, outlook, reuter, ...\n",
      "3         [iraq, halt, oil, export, main, southern, pipe...\n",
      "4         [oil, price, soar, alltim, record, pose, new, ...\n",
      "                                ...                        \n",
      "119995    [pakistan, musharraf, say, wont, quit, armi, c...\n",
      "119996    [renteria, sign, topshelf, deal, red, sox, gen...\n",
      "119997    [saban, go, dolphin, yet, miami, dolphin, put,...\n",
      "119998    [today, nfl, game, pittsburgh, ny, giant, time...\n",
      "119999    [net, get, carter, raptor, indianapoli, allsta...\n",
      "Name: tokens, Length: 120000, dtype: object\n"
     ]
    }
   ],
   "source": [
    "import pandas as pd\n",
    "import re\n",
    "import nltk\n",
    "nltk.download('stopwords')\n",
    "\n",
    "def tokenize_numbers(text):\n",
    "    # Define regular expressions for different types of numbers\n",
    "    year_pattern = r'\\b\\d{4}\\b'\n",
    "    percentage_pattern = r'\\b\\d+(?:\\.\\d+)?\\s*%\\b'\n",
    "    time_pattern = r'\\b\\d+\\s*(?:hours?|mins?|minutes?|secs?|seconds?)\\b'\n",
    "    number_pattern = r'\\b\\d+\\b'\n",
    "    date_pattern = r'\\b\\d{1,2}/\\d{1,2}/\\d{4}\\b'  # Matches dates in mm/dd/yyyy format\n",
    "\n",
    "    # Tokenize numbers based on patterns\n",
    "    text = re.sub(year_pattern, 'tokenyear', text)\n",
    "    text = re.sub(percentage_pattern, 'percentage', text)\n",
    "    text = re.sub(time_pattern, 'timetoken', text)\n",
    "    text = re.sub(date_pattern, 'datetoken', text)\n",
    "    text = re.sub(number_pattern, 'tokennumber', text)\n",
    "\n",
    "    return text\n",
    "\n",
    "# Example usage\n",
    "text = \"I was born in 1982 and got 92% in my exam. It took me 92 minutes on 03/15/2024 to finish the race.\"\n",
    "tokenized_text = tokenize_numbers(text)\n",
    "print(tokenized_text)\n",
    "\n",
    "test_data = pd.read_csv('training_data.csv', delimiter=',', quotechar='\"')\n",
    "\n",
    "# Cleaning\n",
    "test_data['text'] = test_data['text'].str.replace(r'#\\d+;', '', regex=True)\n",
    "\n",
    "# Lowercase\n",
    "test_data['text'] = test_data['text'].str.lower()\n",
    "\n",
    "# Special Characters / Punctuation\n",
    "test_data['text'] = test_data['text'].str.replace(r'[^\\w\\s]', '', regex=True)\n",
    "\n",
    "# Tokenization\n",
    "import nltk\n",
    "test_data['tokens'] = test_data['text'].apply(nltk.word_tokenize)\n",
    "\n",
    "# Stopwords\n",
    "from nltk.corpus import stopwords\n",
    "stop_words = set(stopwords.words('english'))\n",
    "test_data['tokens'] = test_data['tokens'].apply(lambda x: [word for word in x if word.lower() not in stop_words])\n",
    "\n",
    "# Tokenize numbers based on patterns\n",
    "test_data['text'] = test_data['text'].apply(tokenize_numbers)\n",
    "\n",
    "# Stemming\n",
    "from nltk import PorterStemmer\n",
    "stemmer = PorterStemmer()\n",
    "\n",
    "def stem_tokens(tokens):\n",
    "    return [stemmer.stem(token) for token in tokens]\n",
    "\n",
    "test_data['tokens'] = test_data['tokens'].apply(stem_tokens)\n",
    "\n",
    "print(test_data['tokens'])"
   ]
  },
  {
   "cell_type": "markdown",
   "metadata": {},
   "source": [
    "1. Should we remove numbers?\n",
    "2. Negation words\n"
   ]
  },
  {
   "cell_type": "code",
   "execution_count": null,
   "metadata": {},
   "outputs": [],
   "source": []
  },
  {
   "cell_type": "code",
   "execution_count": 2,
   "metadata": {},
   "outputs": [
    {
     "ename": "NameError",
     "evalue": "name 'news_data' is not defined",
     "output_type": "error",
     "traceback": [
      "\u001b[1;31m---------------------------------------------------------------------------\u001b[0m",
      "\u001b[1;31mNameError\u001b[0m                                 Traceback (most recent call last)",
      "Cell \u001b[1;32mIn[2], line 5\u001b[0m\n\u001b[0;32m      2\u001b[0m \u001b[38;5;28;01mfrom\u001b[39;00m \u001b[38;5;21;01mnltk\u001b[39;00m\u001b[38;5;21;01m.\u001b[39;00m\u001b[38;5;21;01mcorpus\u001b[39;00m \u001b[38;5;28;01mimport\u001b[39;00m stopwords\n\u001b[0;32m      4\u001b[0m \u001b[38;5;66;03m# Assuming you have already preprocessed the data and created feature matrices X_train and X_test\u001b[39;00m\n\u001b[1;32m----> 5\u001b[0m X_train \u001b[38;5;241m=\u001b[39m \u001b[43mnews_data\u001b[49m[\u001b[38;5;124m'\u001b[39m\u001b[38;5;124mtext\u001b[39m\u001b[38;5;124m'\u001b[39m]\n\u001b[0;32m      6\u001b[0m y_train \u001b[38;5;241m=\u001b[39m news_data[\u001b[38;5;124m'\u001b[39m\u001b[38;5;124mlabel\u001b[39m\u001b[38;5;124m'\u001b[39m]\n\u001b[0;32m      7\u001b[0m X_val \u001b[38;5;241m=\u001b[39m test_data[\u001b[38;5;124m'\u001b[39m\u001b[38;5;124mtext\u001b[39m\u001b[38;5;124m'\u001b[39m]\n",
      "\u001b[1;31mNameError\u001b[0m: name 'news_data' is not defined"
     ]
    }
   ],
   "source": [
    "from sklearn.feature_extraction.text import CountVectorizer\n",
    "from nltk.corpus import stopwords\n",
    "\n",
    "# Assuming you have already preprocessed the data and created feature matrices X_train and X_test\n",
    "X_train = news_data['text']\n",
    "y_train = news_data['label']\n",
    "X_val = test_data['text']\n",
    "y_val = test_data['label']\n",
    "# Initialize CountVectorizer to convert text data into numerical features\n",
    "vectorizer = CountVectorizer(analyzer='word',max_features=5000,lowercase=True,stop_words='english',ngram_range=(1,2))\n",
    "# Fit the vectorizer on training data and transform the training data\n",
    "X_train = vectorizer.fit_transform(X_train)\n",
    "# Transform the test data using the fitted vectorizer\n",
    "X_test = vectorizer.transform(X_val)\n"
   ]
  },
  {
   "cell_type": "code",
   "execution_count": null,
   "metadata": {},
   "outputs": [],
   "source": [
    "print(vectorizer.vocabulary_)"
   ]
  },
  {
   "cell_type": "code",
   "execution_count": null,
   "metadata": {},
   "outputs": [],
   "source": [
    "from sklearn.naive_bayes import MultinomialNB\n",
    "from sklearn.tree import DecisionTreeClassifier\n",
    "from sklearn.ensemble import RandomForestClassifier\n",
    "from sklearn.linear_model import LogisticRegression\n",
    "model_nb = MultinomialNB()\n",
    "model_dt = DecisionTreeClassifier(random_state=123)\n",
    "model_rf = RandomForestClassifier(random_state=123)\n",
    "model_lr = LogisticRegression(solver='lbfgs', max_iter=1000)"
   ]
  },
  {
   "cell_type": "code",
   "execution_count": null,
   "metadata": {},
   "outputs": [],
   "source": [
    "model_nb = model_nb.fit(X=X_train,y=y_train)\n",
    "model_dt = model_dt.fit(X=X_train,y=y_train)\n",
    "model_rf = model_rf.fit(X=X_train,y=y_train)\n",
    "model_lr = model_lr.fit(X=X_train,y=y_train)"
   ]
  },
  {
   "cell_type": "code",
   "execution_count": null,
   "metadata": {},
   "outputs": [],
   "source": [
    "y_pred_nb = model_nb.predict(X_val)\n",
    "y_pred_dt = model_dt.predict(X_val)\n",
    "y_pred_rf = model_rf.predict(X_val)\n",
    "y_pred_lr = model_lr.predict(X_val)"
   ]
  },
  {
   "cell_type": "code",
   "execution_count": null,
   "metadata": {},
   "outputs": [],
   "source": [
    "from sklearn.metrics import accuracy_score, confusion_matrix\n",
    "print(\"Naive Bayes\", accuracy_score(y_val,y_pred_nb))\n",
    "print(confusion_matrix(y_val,y_pred_nb))\n",
    "print()\n",
    "print(\"Decision Tree\", accuracy_score(y_val,y_pred_dt))\n",
    "print(confusion_matrix(y_val,y_pred_dt))\n",
    "print()\n",
    "print(\"Random Forest\", accuracy_score(y_val,y_pred_rf))\n",
    "print(confusion_matrix(y_val,y_pred_rf))\n",
    "print()\n",
    "print(\"Logistic Regression\", accuracy_score(y_val,y_pred_lr))\n",
    "print(confusion_matrix(y_val,y_pred_lr))"
   ]
  }
 ],
 "metadata": {
  "kernelspec": {
   "display_name": "Python 3 (ipykernel)",
   "language": "python",
   "name": "python3"
  },
  "language_info": {
   "codemirror_mode": {
    "name": "ipython",
    "version": 3
   },
   "file_extension": ".py",
   "mimetype": "text/x-python",
   "name": "python",
   "nbconvert_exporter": "python",
   "pygments_lexer": "ipython3",
   "version": "3.11.2"
  }
 },
 "nbformat": 4,
 "nbformat_minor": 2
}
